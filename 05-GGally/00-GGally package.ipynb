{
 "cells": [
  {
   "cell_type": "markdown",
   "metadata": {
    "collapsed": true
   },
   "source": [
    "GGally\n",
    "=====================\n",
    "\n",
    "GGally: Extension to 'ggplot2'\n",
    "\n",
    "The R package 'ggplot2' is a plotting system based on the grammar of graphics. 'GGally' extends 'ggplot2' by adding several functions to reduce the complexity of combining geometric objects with transformed data. \n",
    "\n",
    "Some of these functions include a pairwise plot matrix, a two group pairwise plot matrix, a parallel coordinates plot, a survival plot, and several functions to plot networks.\n",
    "\n",
    "\n",
    "* ``GGally::ggcoef``\n",
    "* ``GGally::ggduo``\n",
    "* ``GGally::glyphs``\n",
    "* ``GGally::ggmatrix``\n",
    "* ``GGally::ggnetworkmap``\n",
    "* ``GGally::ggnostic``\n",
    "* ``GGally::ggpairs``\n",
    "* ``GGally::ggscatmat``\n",
    "* ``GGally::ggsurv``"
   ]
  },
  {
   "cell_type": "code",
   "execution_count": null,
   "metadata": {
    "collapsed": true
   },
   "outputs": [],
   "source": []
  }
 ],
 "metadata": {
  "kernelspec": {
   "display_name": "R",
   "language": "R",
   "name": "r"
  },
  "language_info": {
   "codemirror_mode": "r",
   "file_extension": ".r",
   "mimetype": "text/x-r-source",
   "name": "R",
   "pygments_lexer": "r",
   "version": "3.3.3"
  }
 },
 "nbformat": 4,
 "nbformat_minor": 2
}
