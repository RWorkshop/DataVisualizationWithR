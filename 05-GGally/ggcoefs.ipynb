{
 "cells": [
  {
   "cell_type": "markdown",
   "metadata": {},
   "source": [
    "``Ggcoef`` - Plot Model Coefficients With Broom And Ggplot2\n",
    "============================================\n",
    "\n",
    "Plot the coefficients of a model with broom and ggplot2.\n",
    "\n",
    "### Usage\n",
    "<pre><code>\n",
    "ggcoef(x, mapping = aes_string(y = \"term\", x = \"estimate\"), conf.int = TRUE, conf.level = 0.95, exponentiate = FALSE, ...)\n",
    "</code></pre>"
   ]
  },
  {
   "cell_type": "markdown",
   "metadata": {},
   "source": [
    "### Arguments\n",
    "\n",
    "* ***``x ``*** :  a model object to be tidied with tidy or a data frame (see Details)\n",
    "* ***``mapping ``*** :  default aesthetic mapping\n",
    "* ***``conf.int ``*** :  display confidence intervals as error bars?\n",
    "* ***``conf.level ``*** :  level of confidence intervals (passed to tidy if x is not a data frame)\n",
    "* ***``exponentiate ``*** :  if ``TRUE``, x-axis will be logarithmic (also passed to tidy if x is not a data frame)"
   ]
  },
  {
   "cell_type": "code",
   "execution_count": 1,
   "metadata": {
    "collapsed": false
   },
   "outputs": [
    {
     "name": "stderr",
     "output_type": "stream",
     "text": [
      "Installing package into '/home/nbcommon/R'\n",
      "(as 'lib' is unspecified)\n",
      "Installing package into '/home/nbcommon/R'\n",
      "(as 'lib' is unspecified)\n"
     ]
    }
   ],
   "source": [
    "install.packages(\"broom\")\n",
    "install.packages(\"GGally\")\n",
    "\n",
    "library(ggplot2)\n",
    "library(GGally)"
   ]
  },
  {
   "cell_type": "code",
   "execution_count": null,
   "metadata": {
    "collapsed": false
   },
   "outputs": [],
   "source": [
    "library(broom) \n",
    "reg <- lm(Sepal.Length ~ Sepal.Width + Petal.Length + Petal.Width, data = iris)\n",
    "ggcoef(reg)\n",
    "\n",
    " "
   ]
  },
  {
   "cell_type": "code",
   "execution_count": null,
   "metadata": {
    "collapsed": true
   },
   "outputs": [],
   "source": [
    "d <- as.data.frame(Titanic)\n",
    "reg2 <- glm(Survived ~ Sex + Age + Class, family = binomial, data = d, weights = d$Freq)\n",
    "  "
   ]
  },
  {
   "cell_type": "code",
   "execution_count": null,
   "metadata": {
    "collapsed": true
   },
   "outputs": [],
   "source": [
    "ggcoef(reg2, exponentiate = TRUE)\n",
    "ggcoef(reg2, exponentiate = TRUE, exclude_intercept = TRUE, errorbar_height = .2, color = \"blue\")\n",
    "\n"
   ]
  }
 ],
 "metadata": {
  "kernelspec": {
   "display_name": "R",
   "language": "R",
   "name": "r"
  },
  "language_info": {
   "codemirror_mode": "r",
   "file_extension": ".r",
   "mimetype": "text/x-r-source",
   "name": "R",
   "pygments_lexer": "r",
   "version": "3.3.0"
  }
 },
 "nbformat": 4,
 "nbformat_minor": 2
}
