{
 "cells": [
  {
   "cell_type": "code",
   "execution_count": null,
   "metadata": {
    "collapsed": true
   },
   "outputs": [],
   "source": [
    "ggduo\n",
    "From GGally v1.2.0\n",
    "by Barret Schloerke\n",
    "97th\n",
    "Percentile\n",
    "Ggduo - A Ggplot2 Generalized Pairs Plot For Two Columns Sets Of A Data.Frame\n",
    "Make a matrix of plots with a given data set with two different column sets\n",
    "\n",
    "Usage\n",
    "ggduo(data, mapping = NULL, columnsX = 1:ncol(data), columnsY = 1:ncol(data), title = \"\", types = list(continuous = \"smooth_loess\", comboVertical = \"box\", comboHorizontal = \"facethist\", discrete  = \"ratio\"), axisLabels = c(\"show\", \"none\"), columnLabelsX = colnames(data[columnsX]), columnLabelsY = colnames(data[columnsY]), showStrips = NULL, legends = FALSE)\n"
   ]
  },
  {
   "cell_type": "code",
   "execution_count": 1,
   "metadata": {
    "collapsed": false
   },
   "outputs": [
    {
     "name": "stderr",
     "output_type": "stream",
     "text": [
      "Installing package into '/home/nbcommon/R'\n",
      "(as 'lib' is unspecified)\n"
     ]
    }
   ],
   "source": [
    "library(ggplot2)\n",
    "install.packages(\"GGally\")\n",
    "library(GGally)"
   ]
  },
  {
   "cell_type": "code",
   "execution_count": 2,
   "metadata": {
    "collapsed": true
   },
   "outputs": [],
   "source": [
    "data(baseball, package = \"plyr\")\n",
    "\n",
    " # Add how many singles a player hit\n",
    " # (must do in two steps as X1b is used in calculations)\n",
    " dt <- transform(\n",
    "   subset(baseball, year >= 1990 & year <= 1995),\n",
    "   X1b = h - X2b - X3b - hr\n",
    " )\n",
    " # Add\n",
    " #  the player's batting average,\n",
    " #  the player's slugging percentage,\n",
    " #  and the player's on base percentage\n",
    " # Make factor a year, as each season is discrete\n",
    " dt <- transform(\n",
    "   dt,\n",
    "   batting_avg = h / ab,\n",
    "   slug = (X1b + 2*X2b + 3*X3b + 4*hr) / ab,\n",
    "   on_base = (h + bb + hbp) / (ab + bb + hbp),\n",
    "   year = as.factor(year)\n",
    " )\n"
   ]
  },
  {
   "cell_type": "code",
   "execution_count": 11,
   "metadata": {
    "collapsed": false
   },
   "outputs": [
    {
     "ename": "ERROR",
     "evalue": "Error in eval(expr, envir, enclos): could not find function \"ggduo\"\n",
     "output_type": "error",
     "traceback": [
      "Error in eval(expr, envir, enclos): could not find function \"ggduo\"\nTraceback:\n"
     ]
    }
   ],
   "source": [
    "pm <- ggduo(\n",
    "   dt,\n",
    "   c(\"year\", \"g\", \"ab\", \"lg\"),\n",
    "   c(\"batting_avg\", \"slug\", \"on_base\"),\n",
    "   mapping = ggplot2::aes(color = lg))\n",
    "pm\n",
    "\n",
    "\n",
    " "
   ]
  },
  {
   "cell_type": "code",
   "execution_count": 12,
   "metadata": {
    "collapsed": true
   },
   "outputs": [],
   "source": [
    "# Make a fake column that will be calculated when printing\n",
    " dt$hit_type <- paste(\"hit_type:\", seq_len(nrow(dt)))\n",
    "\n"
   ]
  },
  {
   "cell_type": "code",
   "execution_count": 6,
   "metadata": {
    "collapsed": false
   },
   "outputs": [
    {
     "ename": "ERROR",
     "evalue": "Error in parse(text = x, srcfile = src): <text>:11:0: unexpected end of input\n9:        return(p)\n10:      }\n   ^\n",
     "output_type": "error",
     "traceback": [
      "Error in parse(text = x, srcfile = src): <text>:11:0: unexpected end of input\n9:        return(p)\n10:      }\n   ^\nTraceback:\n"
     ]
    }
   ],
   "source": [
    "display_hit_type <- function(plot_fn, is_ratio) {\n",
    "   function(data, mapping, ...) {\n",
    "     # change the color aesthetic to fill aesthetic\n",
    "     mapping <- mapping_color_to_fill(mapping)\n",
    "\n",
    "     # If the y varaible is not 'hit_type', continue like normal\n",
    "     if (deparse(mapping$y) != \"hit_type\") {\n",
    "       p <- plot_fn(data, mapping, ...)\n",
    "       return(p)\n",
    "     }"
   ]
  },
  {
   "cell_type": "code",
   "execution_count": 7,
   "metadata": {
    "collapsed": false
   },
   "outputs": [
    {
     "ename": "ERROR",
     "evalue": "Error in parse(text = x, srcfile = src): <text>:40:4: unexpected '}'\n39:      plot_fn(dt_ratio, mapping_ratio, ...)\n40:    }\n       ^\n",
     "output_type": "error",
     "traceback": [
      "Error in parse(text = x, srcfile = src): <text>:40:4: unexpected '}'\n39:      plot_fn(dt_ratio, mapping_ratio, ...)\n40:    }\n       ^\nTraceback:\n"
     ]
    }
   ],
   "source": [
    "\n",
    "\n",
    "     # Capture any extra column names needed\n",
    "     extra_columns <- unname(unlist(lapply(\n",
    "       mapping[! names(mapping) %in% c(\"x\", \"y\")],\n",
    "       deparse\n",
    "     )))\n",
    "     extra_columns <- extra_columns[extra_columns %in% colnames(data)]\n",
    "\n",
    "     x_name <- deparse(mapping$x)\n",
    "\n",
    "     # get the types of hits\n",
    "     hit_types <- c(\"X1b\", \"X2b\", \"X3b\", \"hr\")\n",
    "     hit_names <- c(\"single\", \"double\", \"tripple\", \"home\\nrun\")\n",
    "     if (is_ratio) {\n",
    "       hit_types <- rev(hit_types)\n",
    "       hit_names <- rev(hit_names)\n",
    "     }\n",
    "\n",
    "     # retrieve the columns and rename them\n",
    "     data <- data[, c(x_name, hit_types, extra_columns)]\n",
    "     colnames(data) <- c(x_name, hit_names, extra_columns)\n",
    "\n",
    "     # melt the data to get the counts of the unique hit occurances\n",
    "     dt_melt <- reshape::melt.data.frame(data, id = c(x_name, extra_columns))\n",
    "     dt_value <- dt_melt$value\n",
    "\n",
    "     # Make a new data.frame with all the necessary variables repeated\n",
    "     dt_ratio <- data.frame(variable = logical(sum(dt_value)))\n",
    "     for (col in c(x_name, \"variable\", extra_columns)) {\n",
    "       dt_ratio[[col]] <- rep(dt_melt[[col]], dt_value)\n",
    "     }\n",
    "\n",
    "     # copy the old mapping and overwrite the x and y values\n",
    "     mapping_ratio <- mapping\n",
    "     mapping_ratio[c(\"x\", \"y\")] <- ggplot2::aes_string(x = x_name, y = \"variable\")\n",
    "\n",
    "     # make ggplot2 object!\n",
    "     plot_fn(dt_ratio, mapping_ratio, ...)\n",
    "   }\n",
    " }\n",
    "\n",
    "\n",
    " display_hit_type_combo <- display_hit_type(ggally_facethist, FALSE)\n",
    " display_hit_type_discrete <- display_hit_type(ggally_ratio, TRUE)\n",
    "\n",
    " # remove the strips, as the same information is displayed in the bottom axis area\n",
    " pm <- ggduo(\n",
    "   dt,\n",
    "   c(\"year\", \"g\", \"ab\", \"lg\"),\n",
    "   c(\"batting_avg\", \"slug\", \"on_base\", \"hit_type\"),\n",
    "   columnLabelsX = c(\"year\", \"player game count\", \"player at bat count\", \"league\"),\n",
    "   columnLabelsY = c(\"batting avg\", \"slug %\", \"on base %\", \"hit type\"),\n",
    "   title = \"Baseball Hitting Stats from 1990-1995\",\n",
    "   mapping = ggplot2::aes(color = lg),\n",
    "   types = list(\n",
    "     # change the shape and add some transparency to the points\n",
    "     continuous = wrap(\"smooth_loess\", alpha = 0.50, shape = \"+\"),\n",
    "     # all combinations that are continuous horizontally should have a binwidth of 15\n",
    "     comboHorizontal = wrap(display_hit_type_combo, binwidth = 15),\n",
    "     # the ratio plot should have a black border around the rects of size 0.15\n",
    "     discrete = wrap(display_hit_type_discrete, color = \"black\", size = 0.15)\n",
    "   ),\n",
    "   showStrips = FALSE\n",
    " );\n",
    "\n",
    " pm\n",
    "\n",
    "\n",
    "\n",
    "\n",
    "\n"
   ]
  },
  {
   "cell_type": "code",
   "execution_count": null,
   "metadata": {
    "collapsed": true
   },
   "outputs": [],
   "source": [
    "# Example derived from:\n",
    "## R Data Analysis Examples: Canonical Correlation Analysis.  UCLA: Statistical\n",
    "##   Consulting Group. from http://www.ats.ucla.edu/stat/r/dae/canonical.htm\n",
    "##   (accessed June 23, 2016).\n"
   ]
  },
  {
   "cell_type": "markdown",
   "metadata": {},
   "source": [
    "#### Example 1. \n",
    "* A researcher has collected data on three psychological variables, four academic variables (standardized test scores) and gender for 600 college freshman.\n",
    "* She is interested in how the set of psychological variables relates to the academic variables and gender. \n",
    "* In particular, the researcher is interested in how many dimensions (canonical variables) are necessary to understand the association between the two sets of variables."
   ]
  },
  {
   "cell_type": "code",
   "execution_count": 8,
   "metadata": {
    "collapsed": false
   },
   "outputs": [
    {
     "name": "stderr",
     "output_type": "stream",
     "text": [
      "Warning message in file(file, \"rt\"):\n",
      "\"cannot open URL 'http://www.ats.ucla.edu/stat/data/mmreg.csv': HTTP status was '403 Forbidden'\""
     ]
    },
    {
     "ename": "ERROR",
     "evalue": "Error in file(file, \"rt\"): cannot open the connection\n",
     "output_type": "error",
     "traceback": [
      "Error in file(file, \"rt\"): cannot open the connection\nTraceback:\n",
      "1. read.csv(\"http://www.ats.ucla.edu/stat/data/mmreg.csv\")",
      "2. read.table(file = file, header = header, sep = sep, quote = quote, \n .     dec = dec, fill = fill, comment.char = comment.char, ...)",
      "3. file(file, \"rt\")"
     ]
    }
   ],
   "source": [
    "\n",
    "mm <- read.csv(\"http://www.ats.ucla.edu/stat/data/mmreg.csv\")\n",
    "colnames(mm) <- c(\"Control\", \"Concept\", \"Motivation\", \"Read\", \"Write\", \"Math\",\n",
    "    \"Science\", \"Sex\")\n",
    "summary(mm)\n",
    "\n",
    "psych_variables <- c(\"Control\", \"Concept\", \"Motivation\")\n",
    "academic_variables <- c(\"Read\", \"Write\", \"Math\", \"Science\", \"Sex\")\n"
   ]
  },
  {
   "cell_type": "code",
   "execution_count": null,
   "metadata": {
    "collapsed": true
   },
   "outputs": [],
   "source": [
    "## Within correlation\n",
    "ggpairs(mm, columns = psych_variables)\n"
   ]
  },
  {
   "cell_type": "code",
   "execution_count": null,
   "metadata": {
    "collapsed": true
   },
   "outputs": [],
   "source": [
    "ggpairs(mm, columns = academic_variables)\n"
   ]
  },
  {
   "cell_type": "code",
   "execution_count": 9,
   "metadata": {
    "collapsed": false
   },
   "outputs": [
    {
     "ename": "ERROR",
     "evalue": "Error in eval(expr, envir, enclos): could not find function \"p_\"\n",
     "output_type": "error",
     "traceback": [
      "Error in eval(expr, envir, enclos): could not find function \"p_\"\nTraceback:\n"
     ]
    }
   ],
   "source": [
    "\n",
    "## Between correlation\n",
    "loess_with_cor <- function(data, mapping, ..., method = \"pearson\") {\n",
    "  x <- data[[deparse(mapping$x)]]\n",
    "  y <- data[[deparse(mapping$y)]]\n",
    "  cor <- cor(x, y, method = method)\n",
    "  ggally_smooth_loess(data, mapping, ...) +\n",
    "    ggplot2::geom_label(\n",
    "      data = data.frame(\n",
    "        x = min(x, na.rm = TRUE),\n",
    "        y = max(y, na.rm = TRUE),\n",
    "        lab = round(cor, digits = 3)\n",
    "      ),\n",
    "      mapping = ggplot2::aes(x = x, y = y, label = lab),\n",
    "      hjust = 0, vjust = 1,\n",
    "      size = 5, fontface = \"bold\"\n",
    "    )\n",
    "}\n"
   ]
  },
  {
   "cell_type": "code",
   "execution_count": 13,
   "metadata": {
    "collapsed": false
   },
   "outputs": [
    {
     "ename": "ERROR",
     "evalue": "Error in eval(expr, envir, enclos): could not find function \"ggduo\"\n",
     "output_type": "error",
     "traceback": [
      "Error in eval(expr, envir, enclos): could not find function \"ggduo\"\nTraceback:\n"
     ]
    }
   ],
   "source": [
    "pm <- ggduo(mm, psych_variables, academic_variables, types = list(continuous = loess_with_cor))\n",
    "pm"
   ]
  },
  {
   "cell_type": "code",
   "execution_count": null,
   "metadata": {
    "collapsed": true
   },
   "outputs": [],
   "source": []
  }
 ],
 "metadata": {
  "kernelspec": {
   "display_name": "R",
   "language": "R",
   "name": "r"
  },
  "language_info": {
   "codemirror_mode": "r",
   "file_extension": ".r",
   "mimetype": "text/x-r-source",
   "name": "R",
   "pygments_lexer": "r",
   "version": "3.3.0"
  }
 },
 "nbformat": 4,
 "nbformat_minor": 2
}
