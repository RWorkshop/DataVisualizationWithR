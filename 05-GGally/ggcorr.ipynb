{
 "cells": [
  {
   "cell_type": "code",
   "execution_count": 1,
   "metadata": {
    "collapsed": false
   },
   "outputs": [
    {
     "name": "stderr",
     "output_type": "stream",
     "text": [
      "Installing package into '/home/nbcommon/R'\n",
      "(as 'lib' is unspecified)\n",
      "Warning message in data(baseball):\n",
      "\"data set 'baseball' not found\""
     ]
    }
   ],
   "source": [
    "library(ggplot2)\n",
    "install.packages(\"GGally\")\n",
    "library(GGally)\n",
    "data(baseball)"
   ]
  },
  {
   "cell_type": "code",
   "execution_count": 2,
   "metadata": {
    "collapsed": false
   },
   "outputs": [
    {
     "name": "stderr",
     "output_type": "stream",
     "text": [
      "Warning message in file(file, \"rt\"):\n",
      "\"cannot open URL 'http://datasets.flowingdata.com/ppg2008.csv': HTTP status was '403 Forbidden'\""
     ]
    },
    {
     "ename": "ERROR",
     "evalue": "Error in file(file, \"rt\"): cannot open the connection\n",
     "output_type": "error",
     "traceback": [
      "Error in file(file, \"rt\"): cannot open the connection\nTraceback:\n",
      "1. read.csv(\"http://datasets.flowingdata.com/ppg2008.csv\")",
      "2. read.table(file = file, header = header, sep = sep, quote = quote, \n .     dec = dec, fill = fill, comment.char = comment.char, ...)",
      "3. file(file, \"rt\")"
     ]
    }
   ],
   "source": [
    "# Basketball statistics provided by Nathan Yau at Flowing Data.\n",
    "dt <- read.csv(\"http://datasets.flowingdata.com/ppg2008.csv\")\n",
    "\n",
    "# Default output.\n",
    "ggcorr(dt[, -1])\n",
    "\n",
    "# Labelled output, with coefficient transparency.\n",
    "ggcorr(dt[, -1],\n",
    "       label = TRUE,\n",
    "       label_alpha = TRUE)"
   ]
  },
  {
   "cell_type": "code",
   "execution_count": null,
   "metadata": {
    "collapsed": true
   },
   "outputs": [],
   "source": [
    "\n",
    "\n",
    "# Custom options.\n",
    "ggcorr(\n",
    "  dt[, -1],\n",
    "  name = expression(rho),\n",
    "  geom = \"circle\",\n",
    "  max_size = 10,\n",
    "  min_size = 2,\n",
    "  size = 3,\n",
    "  hjust = 0.75,\n",
    "  nbreaks = 6,\n",
    "  angle = -45,\n",
    "  palette = \"PuOr\" # colorblind safe, photocopy-able\n",
    ")"
   ]
  },
  {
   "cell_type": "code",
   "execution_count": null,
   "metadata": {
    "collapsed": true
   },
   "outputs": [],
   "source": []
  }
 ],
 "metadata": {
  "kernelspec": {
   "display_name": "R",
   "language": "R",
   "name": "r"
  },
  "language_info": {
   "codemirror_mode": "r",
   "file_extension": ".r",
   "mimetype": "text/x-r-source",
   "name": "R",
   "pygments_lexer": "r",
   "version": "3.3.0"
  }
 },
 "nbformat": 4,
 "nbformat_minor": 2
}
